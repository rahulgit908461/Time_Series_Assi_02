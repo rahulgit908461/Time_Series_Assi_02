{
 "cells": [
  {
   "cell_type": "code",
   "execution_count": 1,
   "id": "06d314f1-5e68-4924-9b77-eab62a53749e",
   "metadata": {},
   "outputs": [],
   "source": [
    "#Q1. What is meant by time-dependent seasonal components?"
   ]
  },
  {
   "cell_type": "code",
   "execution_count": 2,
   "id": "94f2a50d-8322-475e-9983-3b6189ec871c",
   "metadata": {},
   "outputs": [],
   "source": [
    "#Seasonal variation is variation in a time series within one year that is repeated more or less regularly.\n",
    "#Seasonal variation may be caused by the temperature, rainfall, public holidays, cycles of seasons or holidays."
   ]
  },
  {
   "cell_type": "code",
   "execution_count": 3,
   "id": "ee171fa8-7765-47f2-bd55-508bd02e5aa4",
   "metadata": {},
   "outputs": [],
   "source": [
    "#Q2. How can time-dependent seasonal components be identified in time series data?"
   ]
  },
  {
   "cell_type": "code",
   "execution_count": 4,
   "id": "7da76d1b-a239-46d7-94b1-b240e811f910",
   "metadata": {},
   "outputs": [],
   "source": [
    "#When plotted, many time series exhibit one or more of the following features:\n",
    "# Trends.\n",
    "# Seasonal and nonseasonal cycles.\n",
    "# Pulses and steps.\n",
    "# Outliers.\n"
   ]
  },
  {
   "cell_type": "code",
   "execution_count": 5,
   "id": "d20fa454-f7e2-4897-b5a5-d937d934c968",
   "metadata": {},
   "outputs": [],
   "source": [
    "#Q3. What are the factors that can influence time-dependent seasonal components?"
   ]
  },
  {
   "cell_type": "code",
   "execution_count": 6,
   "id": "3925f1e4-5614-42ed-a0f1-f9278b2c0504",
   "metadata": {},
   "outputs": [],
   "source": [
    "#Seasonality is a characteristic of a time series in which the data experiences regular and predictable changes \n",
    "#that recur every calendar year. Any predictable fluctuation or pattern that recurs or repeats over a one-year \n",
    "#period is said to be seasonal."
   ]
  },
  {
   "cell_type": "code",
   "execution_count": 7,
   "id": "8ba9e8a0-8faa-4fd2-b6f1-7cb14cf82073",
   "metadata": {},
   "outputs": [],
   "source": [
    "#Q4. How are autoregression models used in time series analysis and forecasting?"
   ]
  },
  {
   "cell_type": "code",
   "execution_count": 8,
   "id": "aece439b-e9c2-4490-af7e-8c00bf97c4d0",
   "metadata": {},
   "outputs": [],
   "source": [
    "#An autoregressive (AR) model forecasts future behavior based on past behavior data. This type of analysis is used \n",
    "#when there is a correlation between the time series values and their preceding and succeeding values.\n",
    "#Autoregressive modeling uses only past data to predict future behavior."
   ]
  },
  {
   "cell_type": "code",
   "execution_count": 9,
   "id": "b6469853-5dba-4ddf-81c4-387f6f204492",
   "metadata": {},
   "outputs": [],
   "source": [
    "#Q5. How do you use autoregression models to make predictions for future time points?"
   ]
  },
  {
   "cell_type": "code",
   "execution_count": 10,
   "id": "9076c6ad-79d2-4608-ac72-2ccef72a509b",
   "metadata": {},
   "outputs": [],
   "source": [
    "#Autoregression is a time series model that uses observations from previous time steps as input to a regression \n",
    "#equation to predict the value at the next time step.\n",
    "\n",
    "#When predicting a time series, we typically use previous values of the series to predict a future value.\n",
    "#Because we use these previous values, it's useful to plot the correlation of the y vector (the volume of traffic \n",
    "#on bike paths in a given week) with previous y vector values"
   ]
  },
  {
   "cell_type": "code",
   "execution_count": 11,
   "id": "8493850b-84c4-4e8d-9a06-b4979fb3ff97",
   "metadata": {},
   "outputs": [],
   "source": [
    "#Q6. What is a moving average (MA) model and how does it differ from other time series models?"
   ]
  },
  {
   "cell_type": "code",
   "execution_count": 13,
   "id": "f92451a6-2f20-44a7-8162-e6b096e1cf48",
   "metadata": {},
   "outputs": [],
   "source": [
    "#The moving average model is a time series model that accounts for very short-run autocorrelation. \n",
    "#It basically states that the next observation is the mean of every past observation. The order of the moving\n",
    "#average model, q, can usually be estimated by looking at the ACF plot of the time series.\n",
    "\n",
    "#The only major difference is that the autoregressive model uses the value of the variable (rt-1), while the moving\n",
    "#average model relies on the residual (ϵt-1)."
   ]
  },
  {
   "cell_type": "code",
   "execution_count": 14,
   "id": "c185b9f1-ece5-4dfa-bbed-1a5125713435",
   "metadata": {},
   "outputs": [],
   "source": [
    "#Q7. What is a mixed ARMA model and how does it differ from an AR or MA model?"
   ]
  },
  {
   "cell_type": "code",
   "execution_count": 15,
   "id": "7c8ceca6-d8c2-4902-8498-f69660e047b2",
   "metadata": {},
   "outputs": [],
   "source": [
    "#The autoregression and moving average (ARMA) models are used in time series analysis to describe stationary time \n",
    "#series . These models represent time series that are generated by passing white noise through a recursive and \n",
    "#through a nonrecursive linear filter , consecutively .\n",
    "\n",
    "#ARMA is the combination of the AR and MA models. ARMA models cover both aspects of AR and MA. The ARMA model\n",
    "#predicts the future values based on both the previous values and errors. Thus ARMA has better performance than \n",
    "#AR and MA models alone."
   ]
  },
  {
   "cell_type": "code",
   "execution_count": null,
   "id": "0e70d53a-8093-422b-b11d-706d789ef2d8",
   "metadata": {},
   "outputs": [],
   "source": []
  }
 ],
 "metadata": {
  "kernelspec": {
   "display_name": "Python 3 (ipykernel)",
   "language": "python",
   "name": "python3"
  },
  "language_info": {
   "codemirror_mode": {
    "name": "ipython",
    "version": 3
   },
   "file_extension": ".py",
   "mimetype": "text/x-python",
   "name": "python",
   "nbconvert_exporter": "python",
   "pygments_lexer": "ipython3",
   "version": "3.10.8"
  }
 },
 "nbformat": 4,
 "nbformat_minor": 5
}
